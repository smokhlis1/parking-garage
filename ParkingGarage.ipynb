{
 "cells": [
  {
   "cell_type": "code",
   "execution_count": 25,
   "id": "b6f53a50",
   "metadata": {},
   "outputs": [
    {
     "name": "stdout",
     "output_type": "stream",
     "text": [
      "What would you like to do? (take/pay/leave/quit): f\n",
      "Invalid choice, please choose one of the four!\n",
      "What would you like to do? (take/pay/leave/quit): take\n",
      "Please grab ticket\n",
      "What would you like to do? (take/pay/leave/quit): pay\n",
      "Please enter the payment amount: 12\n",
      "You just paid your ticket. You have 15 minutes to leave.\n",
      "What would you like to do? (take/pay/leave/quit): leave\n",
      "Please have a nice day!\n",
      "Thanks for parking with us!\n"
     ]
    }
   ],
   "source": [
    "class ParkingGarage():\n",
    "    \n",
    "    def __init__(self, ticket, parking_space):\n",
    "        self.ticket = ticket\n",
    "        self.parking_space = parking_space\n",
    "        self.ticket_currently = {}\n",
    "\n",
    "    def takeTicket(self):\n",
    "        if self.ticket:\n",
    "            ticket_number = self.ticket\n",
    "            self.ticket -= 1\n",
    "            self.ticket_currently = {\"Ticket number: \": ticket_number, \"paid\": False}\n",
    "            print(\"Please grab ticket\")\n",
    "        else:\n",
    "            print(\"The parking garage is full.\")\n",
    "        \n",
    "    def payForParking(self):\n",
    "        if self.ticket_currently:\n",
    "            amount = input(\"Please enter the payment amount: \")\n",
    "            if amount and float(amount)> 0:\n",
    "                self.ticket_currently[\"paid\"] =True\n",
    "                print(\"You just paid your ticket. You have 15 minutes to leave.\")\n",
    "            else:\n",
    "                print(\"Payment amount not entered.\")\n",
    "            \n",
    "        else:\n",
    "            print(\"No ticket was found.\")\n",
    "\n",
    "    def leavingGarage(self):\n",
    "        if self.ticket_currently:\n",
    "            if self.ticket_currently[\"paid\"]:\n",
    "                print(\"Please have a nice day!\")\n",
    "                self.ticket += 1\n",
    "                self.parking_space += 1\n",
    "                self.ticket_currently = {}\n",
    "            else:\n",
    "                amount = input(\"You haven't paid for parking. Please enter the payment amount: \")\n",
    "                if amount and float(amount) > 0:\n",
    "                    self.ticket_currently[\"paid\"] = True\n",
    "                    print(\"You just paid your ticket. You have 15 minutes to leave.\")\n",
    "                else:\n",
    "                    print(\"Invalid or no payment amount entered.\")\n",
    "        else: \n",
    "            print(\"No ticket found.\")\n",
    "\n",
    "tickets = 4\n",
    "parking_spaces = 4\n",
    "garage = ParkingGarage(tickets, parking_spaces)\n",
    "\n",
    "while True:\n",
    "    choice = input(\"What would you like to do? (take/pay/leave/quit): \").lower()\n",
    "\n",
    "    if choice == \"take\":\n",
    "        garage.takeTicket()\n",
    "    elif choice == \"pay\":\n",
    "        garage.payForParking()\n",
    "    elif choice == \"leave\":\n",
    "        garage.leavingGarage()\n",
    "        print(\"Thanks for parking with us!\")\n",
    "        break\n",
    "    elif choice == \"quit\":\n",
    "        print(\"Thank you for trying to park with us!\")\n",
    "        break\n",
    "    else:\n",
    "        print(\"Invalid choice, please choose one of the four!\")"
   ]
  }
 ],
 "metadata": {
  "kernelspec": {
   "display_name": "Python 3 (ipykernel)",
   "language": "python",
   "name": "python3"
  },
  "language_info": {
   "codemirror_mode": {
    "name": "ipython",
    "version": 3
   },
   "file_extension": ".py",
   "mimetype": "text/x-python",
   "name": "python",
   "nbconvert_exporter": "python",
   "pygments_lexer": "ipython3",
   "version": "3.11.4"
  }
 },
 "nbformat": 4,
 "nbformat_minor": 5
}
